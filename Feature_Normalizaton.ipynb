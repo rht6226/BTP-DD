{
  "nbformat": 4,
  "nbformat_minor": 0,
  "metadata": {
    "colab": {
      "name": "Feature Normalizaton.ipynb",
      "provenance": [],
      "collapsed_sections": [],
      "mount_file_id": "1Bb2Vk2b16T7PsA2Oui1u-O83TVBmJS5c",
      "authorship_tag": "ABX9TyPWYxB7tnJE1p7MJC4/Ko2B",
      "include_colab_link": true
    },
    "kernelspec": {
      "name": "python3",
      "display_name": "Python 3"
    }
  },
  "cells": [
    {
      "cell_type": "markdown",
      "metadata": {
        "id": "view-in-github",
        "colab_type": "text"
      },
      "source": [
        "<a href=\"https://colab.research.google.com/github/rht6226/BTP-DD/blob/main/Feature_Normalizaton.ipynb\" target=\"_parent\"><img src=\"https://colab.research.google.com/assets/colab-badge.svg\" alt=\"Open In Colab\"/></a>"
      ]
    },
    {
      "cell_type": "code",
      "metadata": {
        "id": "UEqdbSI__w9G"
      },
      "source": [
        "import numpy as np\r\n",
        "import pandas as pd\r\n",
        "import os\r\n",
        "import random"
      ],
      "execution_count": null,
      "outputs": []
    },
    {
      "cell_type": "code",
      "metadata": {
        "id": "HLenS3QM_5Qe"
      },
      "source": [
        "BASE_DIR = '/content/drive/MyDrive/Drowsiness Detection/Extracted_Features/'\r\n",
        "TARGET_DIR = '/content/drive/MyDrive/Drowsiness Detection/Normalized_Features/'"
      ],
      "execution_count": null,
      "outputs": []
    },
    {
      "cell_type": "code",
      "metadata": {
        "id": "phfBWsXfTutF"
      },
      "source": [
        "def normalise(f, TARGET_DIR):\r\n",
        "    f_path = BASE_DIR + f\r\n",
        "    Data = np.load(f_path)\r\n",
        "\r\n",
        "    # Load data into df\r\n",
        "    df = pd.DataFrame(Data['features'], columns=['EAR', 'MAR', 'PUC', 'MOE'])\r\n",
        "    df['Label'] = Data['labels']\r\n",
        "    df_alert = df[df['Label'] == 0]\r\n",
        "\r\n",
        "    # Calculate mean and std\r\n",
        "    df_alert_mean = df_alert.mean()\r\n",
        "    df_alert_std = df_alert.std()\r\n",
        "\r\n",
        "    # Add columns to df\r\n",
        "    df['EAR_MEAN'] = df_alert_mean[\"EAR\"]\r\n",
        "    df[\"MAR_MEAN\"] = df_alert_mean[\"MAR\"]\r\n",
        "    df[\"PUC_MEAN\"] = df_alert_mean[\"PUC\"]\r\n",
        "    df[\"MOE_MEAN\"] = df_alert_mean[\"MOE\"]\r\n",
        "    df['EAR_STD'] = df_alert_std[\"EAR\"]\r\n",
        "    df[\"MAR_STD\"] = df_alert_std[\"MAR\"]\r\n",
        "    df[\"PUC_STD\"] = df_alert_std[\"PUC\"]\r\n",
        "    df[\"MOE_STD\"] = df_alert_std[\"MOE\"]\r\n",
        "\r\n",
        "    # Calculate Normalised Features\r\n",
        "    df['EAR_N'] = (df['EAR'] - df['EAR_MEAN']) / df['EAR_STD']\r\n",
        "    df['MAR_N'] = (df['MAR'] - df['MAR_MEAN']) / df['MAR_STD']\r\n",
        "    df['PUC_N'] = (df['PUC'] - df['PUC_MEAN']) / df['PUC_STD']\r\n",
        "    df['MOE_N'] = (df['MOE'] - df['MOE_MEAN']) / df['MOE_STD']\r\n",
        "\r\n",
        "    # Drop useless columns\r\n",
        "    df = df.drop(['EAR_MEAN', 'MAR_MEAN', 'PUC_MEAN', 'MOE_MEAN', 'EAR_STD', 'MAR_STD', 'PUC_STD', 'MOE_STD'], axis=1)\r\n",
        "\r\n",
        "    # Rearrange columns\r\n",
        "    cols = df.columns.to_list()\r\n",
        "    cols = cols[0:4] + cols[5:] + [cols[4]]\r\n",
        "    df = df[cols]\r\n",
        "\r\n",
        "    # save to csv\r\n",
        "    df.to_csv(TARGET_DIR + '{}.csv'.format(f.split(\".\")[0]), index=False)\r\n",
        "\r\n",
        "    return df"
      ],
      "execution_count": null,
      "outputs": []
    },
    {
      "cell_type": "code",
      "metadata": {
        "colab": {
          "base_uri": "https://localhost:8080/"
        },
        "id": "CTtwnMyUADGD",
        "outputId": "d7d636dc-f2a4-4a12-957d-76597efeaf0f"
      },
      "source": [
        "files = os.listdir(BASE_DIR)\r\n",
        "count = 0\r\n",
        "for f in files:\r\n",
        "    df = normalise(f, TARGET_DIR)\r\n",
        "    count+=1\r\n",
        "    print(\"Nomralised {}/{} : {}\".format(count, len(files), f))\r\n",
        "    print(\"Dataframe size = {}\".format(df.shape))\r\n",
        "    print()"
      ],
      "execution_count": null,
      "outputs": [
        {
          "output_type": "stream",
          "text": [
            "Nomralised 1/35 : 01.npz\n",
            "Dataframe size = (720, 9)\n",
            "\n",
            "Nomralised 2/35 : 04.npz\n",
            "Dataframe size = (720, 9)\n",
            "\n",
            "Nomralised 3/35 : 06.npz\n",
            "Dataframe size = (720, 9)\n",
            "\n",
            "Nomralised 4/35 : 09.npz\n",
            "Dataframe size = (720, 9)\n",
            "\n",
            "Nomralised 5/35 : 11.npz\n",
            "Dataframe size = (720, 9)\n",
            "\n",
            "Nomralised 6/35 : 12.npz\n",
            "Dataframe size = (720, 9)\n",
            "\n",
            "Nomralised 7/35 : 15.npz\n",
            "Dataframe size = (720, 9)\n",
            "\n",
            "Nomralised 8/35 : 16.npz\n",
            "Dataframe size = (720, 9)\n",
            "\n",
            "Nomralised 9/35 : 17.npz\n",
            "Dataframe size = (720, 9)\n",
            "\n",
            "Nomralised 10/35 : 03.npz\n",
            "Dataframe size = (495, 9)\n",
            "\n",
            "Nomralised 11/35 : 59.npz\n",
            "Dataframe size = (15, 9)\n",
            "\n",
            "Nomralised 12/35 : 23.npz\n",
            "Dataframe size = (720, 9)\n",
            "\n",
            "Nomralised 13/35 : 55.npz\n",
            "Dataframe size = (720, 9)\n",
            "\n",
            "Nomralised 14/35 : 54.npz\n",
            "Dataframe size = (720, 9)\n",
            "\n",
            "Nomralised 15/35 : 24.npz\n",
            "Dataframe size = (720, 9)\n",
            "\n",
            "Nomralised 16/35 : 27.npz\n",
            "Dataframe size = (720, 9)\n",
            "\n",
            "Nomralised 17/35 : 26.npz\n",
            "Dataframe size = (240, 9)\n",
            "\n",
            "Nomralised 18/35 : 29.npz\n",
            "Dataframe size = (720, 9)\n",
            "\n",
            "Nomralised 19/35 : 18.npz\n",
            "Dataframe size = (707, 9)\n",
            "\n",
            "Nomralised 20/35 : 31.npz\n",
            "Dataframe size = (484, 9)\n",
            "\n",
            "Nomralised 21/35 : 30.npz\n",
            "Dataframe size = (480, 9)\n",
            "\n",
            "Nomralised 22/35 : 32.npz\n",
            "Dataframe size = (723, 9)\n",
            "\n",
            "Nomralised 23/35 : 36.npz\n",
            "Dataframe size = (720, 9)\n",
            "\n",
            "Nomralised 24/35 : 35.npz\n",
            "Dataframe size = (720, 9)\n",
            "\n",
            "Nomralised 25/35 : 60.npz\n",
            "Dataframe size = (720, 9)\n",
            "\n",
            "Nomralised 26/35 : 39.npz\n",
            "Dataframe size = (720, 9)\n",
            "\n",
            "Nomralised 27/35 : 40.npz\n",
            "Dataframe size = (720, 9)\n",
            "\n",
            "Nomralised 28/35 : 41.npz\n",
            "Dataframe size = (490, 9)\n",
            "\n",
            "Nomralised 29/35 : 45.npz\n",
            "Dataframe size = (167, 9)\n",
            "\n",
            "Nomralised 30/35 : 34.npz\n",
            "Dataframe size = (720, 9)\n",
            "\n",
            "Nomralised 31/35 : 48.npz\n",
            "Dataframe size = (720, 9)\n",
            "\n",
            "Nomralised 32/35 : 44.npz\n",
            "Dataframe size = (720, 9)\n",
            "\n",
            "Nomralised 33/35 : 51.npz\n",
            "Dataframe size = (720, 9)\n",
            "\n",
            "Nomralised 34/35 : 37.npz\n",
            "Dataframe size = (720, 9)\n",
            "\n",
            "Nomralised 35/35 : 46.npz\n",
            "Dataframe size = (720, 9)\n",
            "\n"
          ],
          "name": "stdout"
        }
      ]
    },
    {
      "cell_type": "code",
      "metadata": {
        "id": "NnoeO5GBuqFL"
      },
      "source": [
        "# Divide files into train, test and validation set\r\n",
        "files = os.listdir(TARGET_DIR);\r\n",
        "random.shuffle(files);\r\n",
        "train = files[:28]\r\n",
        "test = files[28:]"
      ],
      "execution_count": null,
      "outputs": []
    },
    {
      "cell_type": "code",
      "metadata": {
        "id": "dcfkSld5W4WX"
      },
      "source": [
        "def process_dataset(Df):\r\n",
        "    \r\n",
        "    # Dropping rows with Lbael = 5\r\n",
        "    index_names = Df[ Df['Label'] == 5 ].index\r\n",
        "    Df = Df.drop(index_names, inplace=False) \r\n",
        "    \r\n",
        "    \r\n",
        "    # Renaming all the labels\r\n",
        "    Df.loc[Df['Label'] == 10, 'Label'] = 1\r\n",
        "    Df.loc[Df['Label'] == 101, 'Label'] = 1\r\n",
        "    Df.loc[Df['Label'] == 102, 'Label'] = 1 \r\n",
        "\r\n",
        "    return Df"
      ],
      "execution_count": null,
      "outputs": []
    },
    {
      "cell_type": "code",
      "metadata": {
        "colab": {
          "base_uri": "https://localhost:8080/",
          "height": 407
        },
        "id": "HMGNGCbuyjKG",
        "outputId": "0652970f-e261-4a7c-8edc-344e5716dfaa"
      },
      "source": [
        "train_all = []\r\n",
        "for f in train:\r\n",
        "    df = pd.read_csv(TARGET_DIR + f)\r\n",
        "    train_all.append(df)\r\n",
        "\r\n",
        "train_all = pd.concat(train_all, ignore_index=True)\r\n",
        "train_all = process_dataset(train_all)\r\n",
        "\r\n",
        "train_all"
      ],
      "execution_count": null,
      "outputs": [
        {
          "output_type": "execute_result",
          "data": {
            "text/html": [
              "<div>\n",
              "<style scoped>\n",
              "    .dataframe tbody tr th:only-of-type {\n",
              "        vertical-align: middle;\n",
              "    }\n",
              "\n",
              "    .dataframe tbody tr th {\n",
              "        vertical-align: top;\n",
              "    }\n",
              "\n",
              "    .dataframe thead th {\n",
              "        text-align: right;\n",
              "    }\n",
              "</style>\n",
              "<table border=\"1\" class=\"dataframe\">\n",
              "  <thead>\n",
              "    <tr style=\"text-align: right;\">\n",
              "      <th></th>\n",
              "      <th>EAR</th>\n",
              "      <th>MAR</th>\n",
              "      <th>PUC</th>\n",
              "      <th>MOE</th>\n",
              "      <th>EAR_N</th>\n",
              "      <th>MAR_N</th>\n",
              "      <th>PUC_N</th>\n",
              "      <th>MOE_N</th>\n",
              "      <th>Label</th>\n",
              "    </tr>\n",
              "  </thead>\n",
              "  <tbody>\n",
              "    <tr>\n",
              "      <th>240</th>\n",
              "      <td>0.333333</td>\n",
              "      <td>1.717911</td>\n",
              "      <td>0.471232</td>\n",
              "      <td>5.153734</td>\n",
              "      <td>5.857175</td>\n",
              "      <td>35.045910</td>\n",
              "      <td>3.769626</td>\n",
              "      <td>2.489660</td>\n",
              "      <td>1</td>\n",
              "    </tr>\n",
              "    <tr>\n",
              "      <th>241</th>\n",
              "      <td>0.277707</td>\n",
              "      <td>0.945467</td>\n",
              "      <td>0.468123</td>\n",
              "      <td>3.404550</td>\n",
              "      <td>2.728539</td>\n",
              "      <td>-1.745968</td>\n",
              "      <td>3.649509</td>\n",
              "      <td>-2.673563</td>\n",
              "      <td>1</td>\n",
              "    </tr>\n",
              "    <tr>\n",
              "      <th>242</th>\n",
              "      <td>0.279457</td>\n",
              "      <td>0.955662</td>\n",
              "      <td>0.475169</td>\n",
              "      <td>3.419713</td>\n",
              "      <td>2.826969</td>\n",
              "      <td>-1.260352</td>\n",
              "      <td>3.921788</td>\n",
              "      <td>-2.628807</td>\n",
              "      <td>1</td>\n",
              "    </tr>\n",
              "    <tr>\n",
              "      <th>243</th>\n",
              "      <td>0.274776</td>\n",
              "      <td>0.916041</td>\n",
              "      <td>0.456964</td>\n",
              "      <td>3.333771</td>\n",
              "      <td>2.563714</td>\n",
              "      <td>-3.147529</td>\n",
              "      <td>3.218254</td>\n",
              "      <td>-2.882489</td>\n",
              "      <td>1</td>\n",
              "    </tr>\n",
              "    <tr>\n",
              "      <th>244</th>\n",
              "      <td>0.281137</td>\n",
              "      <td>0.941984</td>\n",
              "      <td>0.461040</td>\n",
              "      <td>3.350618</td>\n",
              "      <td>2.921491</td>\n",
              "      <td>-1.911843</td>\n",
              "      <td>3.375790</td>\n",
              "      <td>-2.832760</td>\n",
              "      <td>1</td>\n",
              "    </tr>\n",
              "    <tr>\n",
              "      <th>...</th>\n",
              "      <td>...</td>\n",
              "      <td>...</td>\n",
              "      <td>...</td>\n",
              "      <td>...</td>\n",
              "      <td>...</td>\n",
              "      <td>...</td>\n",
              "      <td>...</td>\n",
              "      <td>...</td>\n",
              "      <td>...</td>\n",
              "    </tr>\n",
              "    <tr>\n",
              "      <th>17461</th>\n",
              "      <td>0.291197</td>\n",
              "      <td>1.107719</td>\n",
              "      <td>0.437048</td>\n",
              "      <td>3.804013</td>\n",
              "      <td>0.494236</td>\n",
              "      <td>0.830278</td>\n",
              "      <td>0.258366</td>\n",
              "      <td>-0.039194</td>\n",
              "      <td>0</td>\n",
              "    </tr>\n",
              "    <tr>\n",
              "      <th>17462</th>\n",
              "      <td>0.313541</td>\n",
              "      <td>1.131945</td>\n",
              "      <td>0.489979</td>\n",
              "      <td>3.610201</td>\n",
              "      <td>1.013477</td>\n",
              "      <td>1.027460</td>\n",
              "      <td>1.343140</td>\n",
              "      <td>-0.263325</td>\n",
              "      <td>0</td>\n",
              "    </tr>\n",
              "    <tr>\n",
              "      <th>17463</th>\n",
              "      <td>0.286090</td>\n",
              "      <td>1.131945</td>\n",
              "      <td>0.427775</td>\n",
              "      <td>3.956601</td>\n",
              "      <td>0.375551</td>\n",
              "      <td>1.027460</td>\n",
              "      <td>0.068315</td>\n",
              "      <td>0.137263</td>\n",
              "      <td>0</td>\n",
              "    </tr>\n",
              "    <tr>\n",
              "      <th>17464</th>\n",
              "      <td>0.291197</td>\n",
              "      <td>1.107586</td>\n",
              "      <td>0.474362</td>\n",
              "      <td>3.803558</td>\n",
              "      <td>0.494236</td>\n",
              "      <td>0.829199</td>\n",
              "      <td>1.023080</td>\n",
              "      <td>-0.039721</td>\n",
              "      <td>0</td>\n",
              "    </tr>\n",
              "    <tr>\n",
              "      <th>17465</th>\n",
              "      <td>0.237278</td>\n",
              "      <td>1.048496</td>\n",
              "      <td>0.386108</td>\n",
              "      <td>4.418842</td>\n",
              "      <td>-0.758795</td>\n",
              "      <td>0.348258</td>\n",
              "      <td>-0.785618</td>\n",
              "      <td>0.671813</td>\n",
              "      <td>0</td>\n",
              "    </tr>\n",
              "  </tbody>\n",
              "</table>\n",
              "<p>11856 rows × 9 columns</p>\n",
              "</div>"
            ],
            "text/plain": [
              "            EAR       MAR       PUC  ...     PUC_N     MOE_N  Label\n",
              "240    0.333333  1.717911  0.471232  ...  3.769626  2.489660      1\n",
              "241    0.277707  0.945467  0.468123  ...  3.649509 -2.673563      1\n",
              "242    0.279457  0.955662  0.475169  ...  3.921788 -2.628807      1\n",
              "243    0.274776  0.916041  0.456964  ...  3.218254 -2.882489      1\n",
              "244    0.281137  0.941984  0.461040  ...  3.375790 -2.832760      1\n",
              "...         ...       ...       ...  ...       ...       ...    ...\n",
              "17461  0.291197  1.107719  0.437048  ...  0.258366 -0.039194      0\n",
              "17462  0.313541  1.131945  0.489979  ...  1.343140 -0.263325      0\n",
              "17463  0.286090  1.131945  0.427775  ...  0.068315  0.137263      0\n",
              "17464  0.291197  1.107586  0.474362  ...  1.023080 -0.039721      0\n",
              "17465  0.237278  1.048496  0.386108  ... -0.785618  0.671813      0\n",
              "\n",
              "[11856 rows x 9 columns]"
            ]
          },
          "metadata": {
            "tags": []
          },
          "execution_count": 15
        }
      ]
    },
    {
      "cell_type": "code",
      "metadata": {
        "colab": {
          "base_uri": "https://localhost:8080/"
        },
        "id": "WIiykseXycoN",
        "outputId": "5ff54cff-56e9-4ffc-a6d0-6dca557845a0"
      },
      "source": [
        "np.unique(train_all.Label.values)"
      ],
      "execution_count": null,
      "outputs": [
        {
          "output_type": "execute_result",
          "data": {
            "text/plain": [
              "array([0, 1])"
            ]
          },
          "metadata": {
            "tags": []
          },
          "execution_count": 16
        }
      ]
    },
    {
      "cell_type": "code",
      "metadata": {
        "colab": {
          "base_uri": "https://localhost:8080/",
          "height": 407
        },
        "id": "0j05a7c9yy2w",
        "outputId": "89704171-61cc-4b28-ff36-735092013c05"
      },
      "source": [
        "test_all = []\r\n",
        "for f in test:\r\n",
        "    df = pd.read_csv(TARGET_DIR + f)\r\n",
        "    test_all.append(df)\r\n",
        "\r\n",
        "test_all = pd.concat(test_all, ignore_index=True)\r\n",
        "test_all = process_dataset(test_all)\r\n",
        "\r\n",
        "test_all"
      ],
      "execution_count": null,
      "outputs": [
        {
          "output_type": "execute_result",
          "data": {
            "text/html": [
              "<div>\n",
              "<style scoped>\n",
              "    .dataframe tbody tr th:only-of-type {\n",
              "        vertical-align: middle;\n",
              "    }\n",
              "\n",
              "    .dataframe tbody tr th {\n",
              "        vertical-align: top;\n",
              "    }\n",
              "\n",
              "    .dataframe thead th {\n",
              "        text-align: right;\n",
              "    }\n",
              "</style>\n",
              "<table border=\"1\" class=\"dataframe\">\n",
              "  <thead>\n",
              "    <tr style=\"text-align: right;\">\n",
              "      <th></th>\n",
              "      <th>EAR</th>\n",
              "      <th>MAR</th>\n",
              "      <th>PUC</th>\n",
              "      <th>MOE</th>\n",
              "      <th>EAR_N</th>\n",
              "      <th>MAR_N</th>\n",
              "      <th>PUC_N</th>\n",
              "      <th>MOE_N</th>\n",
              "      <th>Label</th>\n",
              "    </tr>\n",
              "  </thead>\n",
              "  <tbody>\n",
              "    <tr>\n",
              "      <th>0</th>\n",
              "      <td>0.311196</td>\n",
              "      <td>1.106627</td>\n",
              "      <td>0.481150</td>\n",
              "      <td>3.556042</td>\n",
              "      <td>-0.474072</td>\n",
              "      <td>-1.701950</td>\n",
              "      <td>-0.619316</td>\n",
              "      <td>-0.216636</td>\n",
              "      <td>1</td>\n",
              "    </tr>\n",
              "    <tr>\n",
              "      <th>1</th>\n",
              "      <td>0.326950</td>\n",
              "      <td>1.179309</td>\n",
              "      <td>0.514528</td>\n",
              "      <td>3.607000</td>\n",
              "      <td>-0.097285</td>\n",
              "      <td>-0.347627</td>\n",
              "      <td>0.053330</td>\n",
              "      <td>-0.132636</td>\n",
              "      <td>1</td>\n",
              "    </tr>\n",
              "    <tr>\n",
              "      <th>2</th>\n",
              "      <td>0.301773</td>\n",
              "      <td>1.308314</td>\n",
              "      <td>0.502575</td>\n",
              "      <td>4.335430</td>\n",
              "      <td>-0.699456</td>\n",
              "      <td>2.056189</td>\n",
              "      <td>-0.187561</td>\n",
              "      <td>1.068129</td>\n",
              "      <td>1</td>\n",
              "    </tr>\n",
              "    <tr>\n",
              "      <th>3</th>\n",
              "      <td>0.340194</td>\n",
              "      <td>1.278175</td>\n",
              "      <td>0.545326</td>\n",
              "      <td>3.757200</td>\n",
              "      <td>0.219460</td>\n",
              "      <td>1.494600</td>\n",
              "      <td>0.673986</td>\n",
              "      <td>0.114958</td>\n",
              "      <td>1</td>\n",
              "    </tr>\n",
              "    <tr>\n",
              "      <th>4</th>\n",
              "      <td>0.359488</td>\n",
              "      <td>1.260782</td>\n",
              "      <td>0.557191</td>\n",
              "      <td>3.507164</td>\n",
              "      <td>0.680918</td>\n",
              "      <td>1.170503</td>\n",
              "      <td>0.913101</td>\n",
              "      <td>-0.297209</td>\n",
              "      <td>1</td>\n",
              "    </tr>\n",
              "    <tr>\n",
              "      <th>...</th>\n",
              "      <td>...</td>\n",
              "      <td>...</td>\n",
              "      <td>...</td>\n",
              "      <td>...</td>\n",
              "      <td>...</td>\n",
              "      <td>...</td>\n",
              "      <td>...</td>\n",
              "      <td>...</td>\n",
              "      <td>...</td>\n",
              "    </tr>\n",
              "    <tr>\n",
              "      <th>4810</th>\n",
              "      <td>0.395285</td>\n",
              "      <td>0.912343</td>\n",
              "      <td>0.605583</td>\n",
              "      <td>2.308066</td>\n",
              "      <td>0.236865</td>\n",
              "      <td>-0.479292</td>\n",
              "      <td>0.924340</td>\n",
              "      <td>-0.448760</td>\n",
              "      <td>0</td>\n",
              "    </tr>\n",
              "    <tr>\n",
              "      <th>4811</th>\n",
              "      <td>0.381439</td>\n",
              "      <td>0.912343</td>\n",
              "      <td>0.556562</td>\n",
              "      <td>2.391845</td>\n",
              "      <td>-0.095927</td>\n",
              "      <td>-0.479292</td>\n",
              "      <td>0.070194</td>\n",
              "      <td>-0.301171</td>\n",
              "      <td>0</td>\n",
              "    </tr>\n",
              "    <tr>\n",
              "      <th>4812</th>\n",
              "      <td>0.381439</td>\n",
              "      <td>0.907256</td>\n",
              "      <td>0.556562</td>\n",
              "      <td>2.378508</td>\n",
              "      <td>-0.095927</td>\n",
              "      <td>-0.520724</td>\n",
              "      <td>0.070194</td>\n",
              "      <td>-0.324666</td>\n",
              "      <td>0</td>\n",
              "    </tr>\n",
              "    <tr>\n",
              "      <th>4813</th>\n",
              "      <td>0.383440</td>\n",
              "      <td>0.878220</td>\n",
              "      <td>0.563281</td>\n",
              "      <td>2.290373</td>\n",
              "      <td>-0.047834</td>\n",
              "      <td>-0.757198</td>\n",
              "      <td>0.187277</td>\n",
              "      <td>-0.479929</td>\n",
              "      <td>0</td>\n",
              "    </tr>\n",
              "    <tr>\n",
              "      <th>4814</th>\n",
              "      <td>0.359621</td>\n",
              "      <td>0.958912</td>\n",
              "      <td>0.510876</td>\n",
              "      <td>2.666448</td>\n",
              "      <td>-0.620328</td>\n",
              "      <td>-0.100023</td>\n",
              "      <td>-0.725844</td>\n",
              "      <td>0.182579</td>\n",
              "      <td>0</td>\n",
              "    </tr>\n",
              "  </tbody>\n",
              "</table>\n",
              "<p>3135 rows × 9 columns</p>\n",
              "</div>"
            ],
            "text/plain": [
              "           EAR       MAR       PUC  ...     PUC_N     MOE_N  Label\n",
              "0     0.311196  1.106627  0.481150  ... -0.619316 -0.216636      1\n",
              "1     0.326950  1.179309  0.514528  ...  0.053330 -0.132636      1\n",
              "2     0.301773  1.308314  0.502575  ... -0.187561  1.068129      1\n",
              "3     0.340194  1.278175  0.545326  ...  0.673986  0.114958      1\n",
              "4     0.359488  1.260782  0.557191  ...  0.913101 -0.297209      1\n",
              "...        ...       ...       ...  ...       ...       ...    ...\n",
              "4810  0.395285  0.912343  0.605583  ...  0.924340 -0.448760      0\n",
              "4811  0.381439  0.912343  0.556562  ...  0.070194 -0.301171      0\n",
              "4812  0.381439  0.907256  0.556562  ...  0.070194 -0.324666      0\n",
              "4813  0.383440  0.878220  0.563281  ...  0.187277 -0.479929      0\n",
              "4814  0.359621  0.958912  0.510876  ... -0.725844  0.182579      0\n",
              "\n",
              "[3135 rows x 9 columns]"
            ]
          },
          "metadata": {
            "tags": []
          },
          "execution_count": 17
        }
      ]
    },
    {
      "cell_type": "code",
      "metadata": {
        "colab": {
          "base_uri": "https://localhost:8080/"
        },
        "id": "wA-2IS-o2ZML",
        "outputId": "2f79666e-5e1c-4b54-8e13-118d242fd820"
      },
      "source": [
        "np.unique(test_all.Label.values)"
      ],
      "execution_count": null,
      "outputs": [
        {
          "output_type": "execute_result",
          "data": {
            "text/plain": [
              "array([0, 1, 2])"
            ]
          },
          "metadata": {
            "tags": []
          },
          "execution_count": 10
        }
      ]
    },
    {
      "cell_type": "code",
      "metadata": {
        "id": "nT_GvWj0zAiq"
      },
      "source": [
        "SAVE_PATH = '/content/drive/MyDrive/Drowsiness Detection/Processed_Features/'"
      ],
      "execution_count": null,
      "outputs": []
    },
    {
      "cell_type": "code",
      "metadata": {
        "id": "oCVnBo1_bFnn"
      },
      "source": [
        "train_all.to_csv(SAVE_PATH + 'train.csv', index=False)\r\n",
        "test_all.to_csv(SAVE_PATH + 'test.csv', index=False)"
      ],
      "execution_count": null,
      "outputs": []
    },
    {
      "cell_type": "code",
      "metadata": {
        "id": "2psGvTg0gPSu"
      },
      "source": [
        "import matplotlib.pyplot as plt\r\n",
        "plt.rcParams['figure.figsize'] = [12, 8]\r\n",
        "\r\n",
        "def pie_chart(sizes, title):\r\n",
        "    labels = ['Alert', 'Drowsy']\r\n",
        "    explode = (0, 0.1)\r\n",
        "    fig1, ax1 = plt.subplots()\r\n",
        "    ax1.pie(sizes, explode=explode, labels=labels, autopct='%1.1f%%',\r\n",
        "        shadow=True, startangle=90)\r\n",
        "    ax1.axis('equal')\r\n",
        "    plt.title(title)\r\n",
        "    plt.show() "
      ],
      "execution_count": null,
      "outputs": []
    },
    {
      "cell_type": "code",
      "metadata": {
        "colab": {
          "base_uri": "https://localhost:8080/",
          "height": 482
        },
        "id": "hMqP8EXXbnxk",
        "outputId": "408f0bc8-3252-4703-f80d-ae576518f55d"
      },
      "source": [
        "# now loading data from csv files and checking\r\n",
        "train_all = pd.read_csv(SAVE_PATH + 'train.csv')\r\n",
        "alert_count = len(train_all[train_all['Label'] == 0])\r\n",
        "drowsy_count = len(train_all[train_all['Label'] == 1])\r\n",
        "pie_chart([alert_count, drowsy_count], title='Dataset Distribution - Training Set') "
      ],
      "execution_count": null,
      "outputs": [
        {
          "output_type": "display_data",
          "data": {
            "image/png": "[encoded data removed]",
            "text/plain": [
              "<Figure size 864x576 with 1 Axes>"
            ]
          },
          "metadata": {
            "tags": []
          }
        }
      ]
    },
    {
      "cell_type": "code",
      "metadata": {
        "colab": {
          "base_uri": "https://localhost:8080/",
          "height": 482
        },
        "id": "LPJmM63vcgdK",
        "outputId": "8b883090-6dd8-44f4-8dc2-d3a893895647"
      },
      "source": [
        "test_all = pd.read_csv(SAVE_PATH + 'test.csv')\r\n",
        "alert_count = len(test_all[test_all['Label'] == 0])\r\n",
        "drowsy_count = len(test_all[test_all['Label'] == 1])\r\n",
        "pie_chart([alert_count, drowsy_count], title='Dataset Distribution - Test Set') "
      ],
      "execution_count": null,
      "outputs": [
        {
          "output_type": "display_data",
          "data": {
            "image/png": "[encoded data removed]",
            "text/plain": [
              "<Figure size 864x576 with 1 Axes>"
            ]
          },
          "metadata": {
            "tags": []
          }
        }
      ]
    },
    {
      "cell_type": "code",
      "metadata": {
        "id": "p5L4qFsSI--n"
      },
      "source": [
        ""
      ],
      "execution_count": null,
      "outputs": []
    }
  ]
}