{
  "nbformat": 4,
  "nbformat_minor": 0,
  "metadata": {
    "colab": {
      "name": "Download Dataset.ipynb",
      "provenance": [],
      "collapsed_sections": [],
      "mount_file_id": "1rkCIfPSdYpw3iswYdF6ANN3QZi9b1rY1",
      "authorship_tag": "ABX9TyM2OmBcPBDOXb5du/vSCgRo",
      "include_colab_link": true
    },
    "kernelspec": {
      "name": "python3",
      "display_name": "Python 3"
    }
  },
  "cells": [
    {
      "cell_type": "markdown",
      "metadata": {
        "id": "view-in-github",
        "colab_type": "text"
      },
      "source": [
        "<a href=\"https://colab.research.google.com/github/rht6226/BTP-DD/blob/main/Download_Dataset.ipynb\" target=\"_parent\"><img src=\"https://colab.research.google.com/assets/colab-badge.svg\" alt=\"Open In Colab\"/></a>"
      ]
    },
    {
      "cell_type": "code",
      "metadata": {
        "id": "ur-tHqAk48HF",
        "colab": {
          "base_uri": "https://localhost:8080/"
        },
        "outputId": "fb59a2a8-c3c5-4ce3-ca5b-0c78941b7363"
      },
      "source": [
        "!wget http://vlm1.uta.edu/~athitsos/projects/drowsiness/Fold5_part1.zip"
      ],
      "execution_count": null,
      "outputs": [
        {
          "output_type": "stream",
          "text": [
            "--2021-03-02 21:14:38--  http://vlm1.uta.edu/~athitsos/projects/drowsiness/Fold5_part1.zip\n",
            "Resolving vlm1.uta.edu (vlm1.uta.edu)... 129.107.118.39\n",
            "Connecting to vlm1.uta.edu (vlm1.uta.edu)|129.107.118.39|:80... connected.\n",
            "HTTP request sent, awaiting response... 200 OK\n",
            "Length: 10909873879 (10G) [application/zip]\n",
            "Saving to: ‘Fold5_part1.zip’\n",
            "\n",
            "Fold5_part1.zip     100%[===================>]  10.16G  24.2MB/s    in 8m 52s  \n",
            "\n",
            "2021-03-02 21:23:30 (19.6 MB/s) - ‘Fold5_part1.zip’ saved [10909873879/10909873879]\n",
            "\n"
          ],
          "name": "stdout"
        }
      ]
    },
    {
      "cell_type": "code",
      "metadata": {
        "colab": {
          "base_uri": "https://localhost:8080/"
        },
        "id": "XSO65EQ81XuG",
        "outputId": "6ec72916-2cc2-48ac-872a-ae7c2a3015e5"
      },
      "source": [
        "!unzip Fold5_part1.zip -d '/content/drive/MyDrive/Drowsiness Detection/Dataset'"
      ],
      "execution_count": null,
      "outputs": [
        {
          "output_type": "stream",
          "text": [
            "Archive:  Fold5_part1.zip\n",
            "   creating: /content/drive/MyDrive/Drowsiness Detection/Dataset/Fold5_part1/Fold5_part1/\n",
            "   creating: /content/drive/MyDrive/Drowsiness Detection/Dataset/Fold5_part1/Fold5_part1/52/\n",
            "  inflating: /content/drive/MyDrive/Drowsiness Detection/Dataset/Fold5_part1/Fold5_part1/52/10.MOV  \n",
            "  inflating: /content/drive/MyDrive/Drowsiness Detection/Dataset/Fold5_part1/Fold5_part1/52/5.MOV  \n",
            "  inflating: /content/drive/MyDrive/Drowsiness Detection/Dataset/Fold5_part1/Fold5_part1/52/0.mov  \n",
            "   creating: /content/drive/MyDrive/Drowsiness Detection/Dataset/Fold5_part1/Fold5_part1/51/\n",
            "  inflating: /content/drive/MyDrive/Drowsiness Detection/Dataset/Fold5_part1/Fold5_part1/51/10.mov  \n",
            "  inflating: /content/drive/MyDrive/Drowsiness Detection/Dataset/Fold5_part1/Fold5_part1/51/5.MOV  \n",
            "  inflating: /content/drive/MyDrive/Drowsiness Detection/Dataset/Fold5_part1/Fold5_part1/51/0.MOV  \n",
            "   creating: /content/drive/MyDrive/Drowsiness Detection/Dataset/Fold5_part1/Fold5_part1/50/\n",
            "  inflating: /content/drive/MyDrive/Drowsiness Detection/Dataset/Fold5_part1/Fold5_part1/50/5.MOV  \n",
            "  inflating: /content/drive/MyDrive/Drowsiness Detection/Dataset/Fold5_part1/Fold5_part1/50/10.MOV  \n",
            "  inflating: /content/drive/MyDrive/Drowsiness Detection/Dataset/Fold5_part1/Fold5_part1/50/0.MOV  \n",
            "   creating: /content/drive/MyDrive/Drowsiness Detection/Dataset/Fold5_part1/Fold5_part1/54/\n",
            "  inflating: /content/drive/MyDrive/Drowsiness Detection/Dataset/Fold5_part1/Fold5_part1/54/0.mp4  \n",
            "  inflating: /content/drive/MyDrive/Drowsiness Detection/Dataset/Fold5_part1/Fold5_part1/54/5.mp4  \n",
            "  inflating: /content/drive/MyDrive/Drowsiness Detection/Dataset/Fold5_part1/Fold5_part1/54/10.mp4  \n",
            "   creating: /content/drive/MyDrive/Drowsiness Detection/Dataset/Fold5_part1/Fold5_part1/53/\n",
            "  inflating: /content/drive/MyDrive/Drowsiness Detection/Dataset/Fold5_part1/Fold5_part1/53/0.MOV  \n",
            "  inflating: /content/drive/MyDrive/Drowsiness Detection/Dataset/Fold5_part1/Fold5_part1/53/5.MOV  \n",
            "  inflating: /content/drive/MyDrive/Drowsiness Detection/Dataset/Fold5_part1/Fold5_part1/53/10.MOV  \n",
            "   creating: /content/drive/MyDrive/Drowsiness Detection/Dataset/Fold5_part1/Fold5_part1/49/\n",
            "  inflating: /content/drive/MyDrive/Drowsiness Detection/Dataset/Fold5_part1/Fold5_part1/49/5.mp4  \n",
            "  inflating: /content/drive/MyDrive/Drowsiness Detection/Dataset/Fold5_part1/Fold5_part1/49/10_2.mp4  \n",
            "  inflating: /content/drive/MyDrive/Drowsiness Detection/Dataset/Fold5_part1/Fold5_part1/49/10_1.mp4  \n",
            "  inflating: /content/drive/MyDrive/Drowsiness Detection/Dataset/Fold5_part1/Fold5_part1/49/0.mp4  \n"
          ],
          "name": "stdout"
        }
      ]
    },
    {
      "cell_type": "code",
      "metadata": {
        "colab": {
          "base_uri": "https://localhost:8080/"
        },
        "id": "Cg_NBcq-1i4P",
        "outputId": "8d0ea69b-21ba-4b91-b35b-bb7f951f5024"
      },
      "source": [
        "!wget 'http://vlm1.uta.edu/~athitsos/projects/drowsiness/Fold5_part2.zip'"
      ],
      "execution_count": null,
      "outputs": [
        {
          "output_type": "stream",
          "text": [
            "--2021-03-02 21:32:59--  http://vlm1.uta.edu/~athitsos/projects/drowsiness/Fold5_part2.zip\n",
            "Resolving vlm1.uta.edu (vlm1.uta.edu)... 129.107.118.39\n",
            "Connecting to vlm1.uta.edu (vlm1.uta.edu)|129.107.118.39|:80... connected.\n",
            "HTTP request sent, awaiting response... 200 OK\n",
            "Length: 12827442801 (12G) [application/zip]\n",
            "Saving to: ‘Fold5_part2.zip’\n",
            "\n",
            "Fold5_part2.zip     100%[===================>]  11.95G  17.7MB/s    in 11m 2s  \n",
            "\n",
            "2021-03-02 21:44:02 (18.5 MB/s) - ‘Fold5_part2.zip’ saved [12827442801/12827442801]\n",
            "\n"
          ],
          "name": "stdout"
        }
      ]
    },
    {
      "cell_type": "code",
      "metadata": {
        "colab": {
          "base_uri": "https://localhost:8080/"
        },
        "id": "8dr9iKr52sIP",
        "outputId": "2e936cda-426f-4d51-c6db-c2e6f9774000"
      },
      "source": [
        "!unzip Fold5_part2.zip -d '/content/drive/MyDrive/Drowsiness Detection/Dataset'"
      ],
      "execution_count": null,
      "outputs": [
        {
          "output_type": "stream",
          "text": [
            "Archive:  Fold5_part2.zip\n",
            "   creating: /content/drive/MyDrive/Drowsiness Detection/Dataset/Fold5_part2/\n",
            "   creating: /content/drive/MyDrive/Drowsiness Detection/Dataset/Fold5_part2/56/\n",
            "  inflating: /content/drive/MyDrive/Drowsiness Detection/Dataset/Fold5_part2/56/10.MOV  \n",
            "  inflating: /content/drive/MyDrive/Drowsiness Detection/Dataset/Fold5_part2/56/5.MOV  \n",
            "  inflating: /content/drive/MyDrive/Drowsiness Detection/Dataset/Fold5_part2/56/0.MOV  \n",
            "   creating: /content/drive/MyDrive/Drowsiness Detection/Dataset/Fold5_part2/57/\n",
            "  inflating: /content/drive/MyDrive/Drowsiness Detection/Dataset/Fold5_part2/57/10.MOV  \n",
            "  inflating: /content/drive/MyDrive/Drowsiness Detection/Dataset/Fold5_part2/57/5.MOV  \n",
            "  inflating: /content/drive/MyDrive/Drowsiness Detection/Dataset/Fold5_part2/57/0.MOV  \n",
            "   creating: /content/drive/MyDrive/Drowsiness Detection/Dataset/Fold5_part2/55/\n",
            "  inflating: /content/drive/MyDrive/Drowsiness Detection/Dataset/Fold5_part2/55/10.mp4  \n",
            "  inflating: /content/drive/MyDrive/Drowsiness Detection/Dataset/Fold5_part2/55/0.mp4  \n",
            "  inflating: /content/drive/MyDrive/Drowsiness Detection/Dataset/Fold5_part2/55/5.mp4  \n",
            "   creating: /content/drive/MyDrive/Drowsiness Detection/Dataset/Fold5_part2/58/\n",
            "  inflating: /content/drive/MyDrive/Drowsiness Detection/Dataset/Fold5_part2/58/0.mp4  \n",
            "  inflating: /content/drive/MyDrive/Drowsiness Detection/Dataset/Fold5_part2/58/5.mp4  \n",
            "  inflating: /content/drive/MyDrive/Drowsiness Detection/Dataset/Fold5_part2/58/10.mp4  \n",
            "   creating: /content/drive/MyDrive/Drowsiness Detection/Dataset/Fold5_part2/59/\n",
            "  inflating: /content/drive/MyDrive/Drowsiness Detection/Dataset/Fold5_part2/59/5.MOV  \n",
            "  inflating: /content/drive/MyDrive/Drowsiness Detection/Dataset/Fold5_part2/59/0.MOV  \n",
            "  inflating: /content/drive/MyDrive/Drowsiness Detection/Dataset/Fold5_part2/59/10.MOV  \n",
            "   creating: /content/drive/MyDrive/Drowsiness Detection/Dataset/Fold5_part2/60/\n",
            "  inflating: /content/drive/MyDrive/Drowsiness Detection/Dataset/Fold5_part2/60/0.mov  \n",
            "  inflating: /content/drive/MyDrive/Drowsiness Detection/Dataset/Fold5_part2/60/5.mov  \n",
            "  inflating: /content/drive/MyDrive/Drowsiness Detection/Dataset/Fold5_part2/60/10.mov  \n"
          ],
          "name": "stdout"
        }
      ]
    },
    {
      "cell_type": "code",
      "metadata": {
        "colab": {
          "base_uri": "https://localhost:8080/"
        },
        "id": "SDVjLFWA29Oc",
        "outputId": "1981f5a3-7406-485c-d9c0-83e508ac08b4"
      },
      "source": [
        "!wget 'http://vlm1.uta.edu/~athitsos/projects/drowsiness/Fold1_part1.zip'"
      ],
      "execution_count": null,
      "outputs": [
        {
          "output_type": "stream",
          "text": [
            "--2021-03-02 21:48:19--  http://vlm1.uta.edu/~athitsos/projects/drowsiness/Fold1_part1.zip\n",
            "Resolving vlm1.uta.edu (vlm1.uta.edu)... 129.107.118.39\n",
            "Connecting to vlm1.uta.edu (vlm1.uta.edu)|129.107.118.39|:80... connected.\n",
            "HTTP request sent, awaiting response... 200 OK\n",
            "Length: 12880106338 (12G) [application/zip]\n",
            "Saving to: ‘Fold1_part1.zip’\n",
            "\n",
            "Fold1_part1.zip     100%[===================>]  12.00G  18.1MB/s    in 10m 46s \n",
            "\n",
            "2021-03-02 21:59:05 (19.0 MB/s) - ‘Fold1_part1.zip’ saved [12880106338/12880106338]\n",
            "\n"
          ],
          "name": "stdout"
        }
      ]
    },
    {
      "cell_type": "code",
      "metadata": {
        "colab": {
          "base_uri": "https://localhost:8080/"
        },
        "id": "h6R_cegd3Csm",
        "outputId": "0233dcc3-030a-44d0-f25f-51955c060be5"
      },
      "source": [
        "!unzip Fold1_part1.zip -d '/content/drive/MyDrive/Drowsiness Detection/Dataset'"
      ],
      "execution_count": null,
      "outputs": [
        {
          "output_type": "stream",
          "text": [
            "Archive:  Fold1_part1.zip\n",
            "   creating: /content/drive/MyDrive/Drowsiness Detection/Dataset/Fold1_part1/\n",
            "   creating: /content/drive/MyDrive/Drowsiness Detection/Dataset/Fold1_part1/06/\n",
            "  inflating: /content/drive/MyDrive/Drowsiness Detection/Dataset/Fold1_part1/06/5.mp4  \n",
            "  inflating: /content/drive/MyDrive/Drowsiness Detection/Dataset/Fold1_part1/06/10.mp4  \n",
            "  inflating: /content/drive/MyDrive/Drowsiness Detection/Dataset/Fold1_part1/06/0.mp4  \n",
            "   creating: /content/drive/MyDrive/Drowsiness Detection/Dataset/Fold1_part1/03/\n",
            "  inflating: /content/drive/MyDrive/Drowsiness Detection/Dataset/Fold1_part1/03/10.mov  \n",
            "  inflating: /content/drive/MyDrive/Drowsiness Detection/Dataset/Fold1_part1/03/5.mov  \n",
            "  inflating: /content/drive/MyDrive/Drowsiness Detection/Dataset/Fold1_part1/03/0.MOV  \n",
            "   creating: /content/drive/MyDrive/Drowsiness Detection/Dataset/Fold1_part1/05/\n",
            "  inflating: /content/drive/MyDrive/Drowsiness Detection/Dataset/Fold1_part1/05/5.MOV  \n",
            "  inflating: /content/drive/MyDrive/Drowsiness Detection/Dataset/Fold1_part1/05/10.MOV  \n",
            "  inflating: /content/drive/MyDrive/Drowsiness Detection/Dataset/Fold1_part1/05/0.MOV  \n",
            "   creating: /content/drive/MyDrive/Drowsiness Detection/Dataset/Fold1_part1/04/\n",
            "  inflating: /content/drive/MyDrive/Drowsiness Detection/Dataset/Fold1_part1/04/5.mp4  \n",
            "  inflating: /content/drive/MyDrive/Drowsiness Detection/Dataset/Fold1_part1/04/0.mp4  \n",
            "  inflating: /content/drive/MyDrive/Drowsiness Detection/Dataset/Fold1_part1/04/10.mp4  \n",
            "   creating: /content/drive/MyDrive/Drowsiness Detection/Dataset/Fold1_part1/01/\n",
            "  inflating: /content/drive/MyDrive/Drowsiness Detection/Dataset/Fold1_part1/01/10.MOV  \n",
            "  inflating: /content/drive/MyDrive/Drowsiness Detection/Dataset/Fold1_part1/01/5.mov  \n",
            "  inflating: /content/drive/MyDrive/Drowsiness Detection/Dataset/Fold1_part1/01/0.mov  \n",
            "   creating: /content/drive/MyDrive/Drowsiness Detection/Dataset/Fold1_part1/02/\n",
            "  inflating: /content/drive/MyDrive/Drowsiness Detection/Dataset/Fold1_part1/02/0.mov  \n",
            "  inflating: /content/drive/MyDrive/Drowsiness Detection/Dataset/Fold1_part1/02/5.MOV  \n",
            "  inflating: /content/drive/MyDrive/Drowsiness Detection/Dataset/Fold1_part1/02/10.MOV  \n"
          ],
          "name": "stdout"
        }
      ]
    },
    {
      "cell_type": "code",
      "metadata": {
        "colab": {
          "base_uri": "https://localhost:8080/"
        },
        "id": "WKM2qu_P3I-7",
        "outputId": "a9cd6845-32c8-414f-85f1-ff934a074fa0"
      },
      "source": [
        "!wget 'http://vlm1.uta.edu/~athitsos/projects/drowsiness/Fold1_part2.zip'"
      ],
      "execution_count": null,
      "outputs": [
        {
          "output_type": "stream",
          "text": [
            "--2021-03-02 22:03:27--  http://vlm1.uta.edu/~athitsos/projects/drowsiness/Fold1_part2.zip\n",
            "Resolving vlm1.uta.edu (vlm1.uta.edu)... 129.107.118.39\n",
            "Connecting to vlm1.uta.edu (vlm1.uta.edu)|129.107.118.39|:80... connected.\n",
            "HTTP request sent, awaiting response... 200 OK\n",
            "Length: 11679386528 (11G) [application/zip]\n",
            "Saving to: ‘Fold1_part2.zip’\n",
            "\n",
            "Fold1_part2.zip     100%[===================>]  10.88G  13.1MB/s    in 10m 40s \n",
            "\n",
            "2021-03-02 22:14:07 (17.4 MB/s) - ‘Fold1_part2.zip’ saved [11679386528/11679386528]\n",
            "\n"
          ],
          "name": "stdout"
        }
      ]
    },
    {
      "cell_type": "code",
      "metadata": {
        "colab": {
          "base_uri": "https://localhost:8080/"
        },
        "id": "HVVs8aXa3RUY",
        "outputId": "84fe0ee1-a8b3-49ef-b14f-28c5cfc98f32"
      },
      "source": [
        "!unzip Fold1_part2.zip -d '/content/drive/MyDrive/Drowsiness Detection/Dataset'"
      ],
      "execution_count": null,
      "outputs": [
        {
          "output_type": "stream",
          "text": [
            "Archive:  Fold1_part2.zip\n",
            "   creating: /content/drive/MyDrive/Drowsiness Detection/Dataset/Fold1_part2/\n",
            "   creating: /content/drive/MyDrive/Drowsiness Detection/Dataset/Fold1_part2/08/\n",
            "  inflating: /content/drive/MyDrive/Drowsiness Detection/Dataset/Fold1_part2/08/10.mp4  \n",
            "  inflating: /content/drive/MyDrive/Drowsiness Detection/Dataset/Fold1_part2/08/0.mp4  \n",
            "  inflating: /content/drive/MyDrive/Drowsiness Detection/Dataset/Fold1_part2/08/5.mp4  \n",
            "   creating: /content/drive/MyDrive/Drowsiness Detection/Dataset/Fold1_part2/11/\n",
            "  inflating: /content/drive/MyDrive/Drowsiness Detection/Dataset/Fold1_part2/11/5.mp4  \n",
            "  inflating: /content/drive/MyDrive/Drowsiness Detection/Dataset/Fold1_part2/11/0.mp4  \n",
            "  inflating: /content/drive/MyDrive/Drowsiness Detection/Dataset/Fold1_part2/11/10.mp4  \n",
            "   creating: /content/drive/MyDrive/Drowsiness Detection/Dataset/Fold1_part2/09/\n",
            "  inflating: /content/drive/MyDrive/Drowsiness Detection/Dataset/Fold1_part2/09/0.mp4  \n",
            "  inflating: /content/drive/MyDrive/Drowsiness Detection/Dataset/Fold1_part2/09/10.mp4  \n",
            "  inflating: /content/drive/MyDrive/Drowsiness Detection/Dataset/Fold1_part2/09/5.mp4  \n",
            "   creating: /content/drive/MyDrive/Drowsiness Detection/Dataset/Fold1_part2/07/\n",
            "  inflating: /content/drive/MyDrive/Drowsiness Detection/Dataset/Fold1_part2/07/5.mp4  \n",
            "  inflating: /content/drive/MyDrive/Drowsiness Detection/Dataset/Fold1_part2/07/10.mp4  \n",
            "  inflating: /content/drive/MyDrive/Drowsiness Detection/Dataset/Fold1_part2/07/0.mp4  \n",
            "   creating: /content/drive/MyDrive/Drowsiness Detection/Dataset/Fold1_part2/10/\n",
            "  inflating: /content/drive/MyDrive/Drowsiness Detection/Dataset/Fold1_part2/10/10.MOV  \n",
            "  inflating: /content/drive/MyDrive/Drowsiness Detection/Dataset/Fold1_part2/10/5.MOV  \n",
            "  inflating: /content/drive/MyDrive/Drowsiness Detection/Dataset/Fold1_part2/10/0.MOV  \n",
            "   creating: /content/drive/MyDrive/Drowsiness Detection/Dataset/Fold1_part2/12/\n",
            "  inflating: /content/drive/MyDrive/Drowsiness Detection/Dataset/Fold1_part2/12/5.mp4  \n",
            "  inflating: /content/drive/MyDrive/Drowsiness Detection/Dataset/Fold1_part2/12/10.mp4  \n",
            "  inflating: /content/drive/MyDrive/Drowsiness Detection/Dataset/Fold1_part2/12/0.mp4  \n"
          ],
          "name": "stdout"
        }
      ]
    },
    {
      "cell_type": "code",
      "metadata": {
        "colab": {
          "base_uri": "https://localhost:8080/"
        },
        "id": "iuIfagQk3ZJZ",
        "outputId": "86f8e1fe-513b-4ed8-dca9-412d55d2dcc7"
      },
      "source": [
        "!wget 'http://vlm1.uta.edu/~athitsos/projects/drowsiness/Fold2_part1.zip'"
      ],
      "execution_count": null,
      "outputs": [
        {
          "output_type": "stream",
          "text": [
            "--2021-03-02 22:17:59--  http://vlm1.uta.edu/~athitsos/projects/drowsiness/Fold2_part1.zip\n",
            "Resolving vlm1.uta.edu (vlm1.uta.edu)... 129.107.118.39\n",
            "Connecting to vlm1.uta.edu (vlm1.uta.edu)|129.107.118.39|:80... connected.\n",
            "HTTP request sent, awaiting response... 200 OK\n",
            "Length: 11333579094 (11G) [application/zip]\n",
            "Saving to: ‘Fold2_part1.zip’\n",
            "\n",
            "Fold2_part1.zip     100%[===================>]  10.55G  16.4MB/s    in 10m 12s \n",
            "\n",
            "2021-03-02 22:28:11 (17.7 MB/s) - ‘Fold2_part1.zip’ saved [11333579094/11333579094]\n",
            "\n"
          ],
          "name": "stdout"
        }
      ]
    },
    {
      "cell_type": "code",
      "metadata": {
        "colab": {
          "base_uri": "https://localhost:8080/"
        },
        "id": "I72KkxZq3ZLZ",
        "outputId": "2557487c-1eae-49bb-df91-719e909aa231"
      },
      "source": [
        "!unzip Fold2_part1.zip -d '/content/drive/MyDrive/Drowsiness Detection/Dataset'"
      ],
      "execution_count": null,
      "outputs": [
        {
          "output_type": "stream",
          "text": [
            "Archive:  Fold2_part1.zip\n",
            "   creating: /content/drive/MyDrive/Drowsiness Detection/Dataset/Fold2_part1/\n",
            "   creating: /content/drive/MyDrive/Drowsiness Detection/Dataset/Fold2_part1/13/\n",
            "  inflating: /content/drive/MyDrive/Drowsiness Detection/Dataset/Fold2_part1/13/5.mp4  \n",
            "  inflating: /content/drive/MyDrive/Drowsiness Detection/Dataset/Fold2_part1/13/10.mp4  \n",
            "  inflating: /content/drive/MyDrive/Drowsiness Detection/Dataset/Fold2_part1/13/0.mp4  \n",
            "   creating: /content/drive/MyDrive/Drowsiness Detection/Dataset/Fold2_part1/18/\n",
            "  inflating: /content/drive/MyDrive/Drowsiness Detection/Dataset/Fold2_part1/18/5.mov  \n",
            "  inflating: /content/drive/MyDrive/Drowsiness Detection/Dataset/Fold2_part1/18/0.mov  \n",
            "  inflating: /content/drive/MyDrive/Drowsiness Detection/Dataset/Fold2_part1/18/10.mov  \n",
            "   creating: /content/drive/MyDrive/Drowsiness Detection/Dataset/Fold2_part1/16/\n",
            "  inflating: /content/drive/MyDrive/Drowsiness Detection/Dataset/Fold2_part1/16/0.MOV  \n",
            "  inflating: /content/drive/MyDrive/Drowsiness Detection/Dataset/Fold2_part1/16/5.MOV  \n",
            "  inflating: /content/drive/MyDrive/Drowsiness Detection/Dataset/Fold2_part1/16/10.MOV  \n",
            "   creating: /content/drive/MyDrive/Drowsiness Detection/Dataset/Fold2_part1/14/\n",
            "  inflating: /content/drive/MyDrive/Drowsiness Detection/Dataset/Fold2_part1/14/10.mp4  \n",
            "  inflating: /content/drive/MyDrive/Drowsiness Detection/Dataset/Fold2_part1/14/0.mp4  \n",
            "  inflating: /content/drive/MyDrive/Drowsiness Detection/Dataset/Fold2_part1/14/5.mp4  \n",
            "   creating: /content/drive/MyDrive/Drowsiness Detection/Dataset/Fold2_part1/15/\n",
            "  inflating: /content/drive/MyDrive/Drowsiness Detection/Dataset/Fold2_part1/15/5.mp4  \n",
            "  inflating: /content/drive/MyDrive/Drowsiness Detection/Dataset/Fold2_part1/15/0.mp4  \n",
            "  inflating: /content/drive/MyDrive/Drowsiness Detection/Dataset/Fold2_part1/15/10.mp4  \n",
            "   creating: /content/drive/MyDrive/Drowsiness Detection/Dataset/Fold2_part1/17/\n",
            "  inflating: /content/drive/MyDrive/Drowsiness Detection/Dataset/Fold2_part1/17/10.mp4  \n",
            "  inflating: /content/drive/MyDrive/Drowsiness Detection/Dataset/Fold2_part1/17/0.mp4  \n",
            "  inflating: /content/drive/MyDrive/Drowsiness Detection/Dataset/Fold2_part1/17/5.mp4  \n"
          ],
          "name": "stdout"
        }
      ]
    },
    {
      "cell_type": "code",
      "metadata": {
        "colab": {
          "base_uri": "https://localhost:8080/"
        },
        "id": "DeL68Ctw3ZOt",
        "outputId": "46da31c7-1a73-4f36-8065-ec11d887c40e"
      },
      "source": [
        "!wget 'http://vlm1.uta.edu/~athitsos/projects/drowsiness/Fold2_part2.zip'"
      ],
      "execution_count": null,
      "outputs": [
        {
          "output_type": "stream",
          "text": [
            "--2021-03-02 22:31:55--  http://vlm1.uta.edu/~athitsos/projects/drowsiness/Fold2_part2.zip\n",
            "Resolving vlm1.uta.edu (vlm1.uta.edu)... 129.107.118.39\n",
            "Connecting to vlm1.uta.edu (vlm1.uta.edu)|129.107.118.39|:80... connected.\n",
            "HTTP request sent, awaiting response... 200 OK\n",
            "Length: 12192957897 (11G) [application/zip]\n",
            "Saving to: ‘Fold2_part2.zip’\n",
            "\n",
            "Fold2_part2.zip     100%[===================>]  11.36G  13.8MB/s    in 10m 59s \n",
            "\n",
            "2021-03-02 22:42:55 (17.6 MB/s) - ‘Fold2_part2.zip’ saved [12192957897/12192957897]\n",
            "\n"
          ],
          "name": "stdout"
        }
      ]
    },
    {
      "cell_type": "code",
      "metadata": {
        "colab": {
          "base_uri": "https://localhost:8080/"
        },
        "id": "W-bsFCnr3ZQY",
        "outputId": "ace53a7d-9649-48bc-ac31-9f1715662c64"
      },
      "source": [
        "!unzip Fold2_part2.zip -d '/content/drive/MyDrive/Drowsiness Detection/Dataset'"
      ],
      "execution_count": null,
      "outputs": [
        {
          "output_type": "stream",
          "text": [
            "Archive:  Fold2_part2.zip\n",
            "   creating: /content/drive/MyDrive/Drowsiness Detection/Dataset/Fold2_part2/\n",
            "   creating: /content/drive/MyDrive/Drowsiness Detection/Dataset/Fold2_part2/22/\n",
            "  inflating: /content/drive/MyDrive/Drowsiness Detection/Dataset/Fold2_part2/22/10.MOV  \n",
            "  inflating: /content/drive/MyDrive/Drowsiness Detection/Dataset/Fold2_part2/22/5.MOV  \n",
            "  inflating: /content/drive/MyDrive/Drowsiness Detection/Dataset/Fold2_part2/22/0.MOV  \n",
            "   creating: /content/drive/MyDrive/Drowsiness Detection/Dataset/Fold2_part2/23/\n",
            "  inflating: /content/drive/MyDrive/Drowsiness Detection/Dataset/Fold2_part2/23/0.mp4  \n",
            "  inflating: /content/drive/MyDrive/Drowsiness Detection/Dataset/Fold2_part2/23/5.mp4  \n",
            "  inflating: /content/drive/MyDrive/Drowsiness Detection/Dataset/Fold2_part2/23/10.mp4  \n",
            "   creating: /content/drive/MyDrive/Drowsiness Detection/Dataset/Fold2_part2/19/\n",
            "  inflating: /content/drive/MyDrive/Drowsiness Detection/Dataset/Fold2_part2/19/0.MOV  \n",
            "  inflating: /content/drive/MyDrive/Drowsiness Detection/Dataset/Fold2_part2/19/5.MOV  \n",
            "  inflating: /content/drive/MyDrive/Drowsiness Detection/Dataset/Fold2_part2/19/10.MOV  \n",
            "   creating: /content/drive/MyDrive/Drowsiness Detection/Dataset/Fold2_part2/21/\n",
            "  inflating: /content/drive/MyDrive/Drowsiness Detection/Dataset/Fold2_part2/21/10.MOV  \n",
            "  inflating: /content/drive/MyDrive/Drowsiness Detection/Dataset/Fold2_part2/21/5.MOV  \n",
            "  inflating: /content/drive/MyDrive/Drowsiness Detection/Dataset/Fold2_part2/21/0.MOV  \n",
            "   creating: /content/drive/MyDrive/Drowsiness Detection/Dataset/Fold2_part2/24/\n",
            "  inflating: /content/drive/MyDrive/Drowsiness Detection/Dataset/Fold2_part2/24/10.mp4  \n",
            "  inflating: /content/drive/MyDrive/Drowsiness Detection/Dataset/Fold2_part2/24/0.mp4  \n",
            "  inflating: /content/drive/MyDrive/Drowsiness Detection/Dataset/Fold2_part2/24/5.mp4  \n",
            "   creating: /content/drive/MyDrive/Drowsiness Detection/Dataset/Fold2_part2/20/\n",
            "  inflating: /content/drive/MyDrive/Drowsiness Detection/Dataset/Fold2_part2/20/5.MOV  \n",
            "  inflating: /content/drive/MyDrive/Drowsiness Detection/Dataset/Fold2_part2/20/0.mp4  \n",
            "  inflating: /content/drive/MyDrive/Drowsiness Detection/Dataset/Fold2_part2/20/10.mp4  \n"
          ],
          "name": "stdout"
        }
      ]
    },
    {
      "cell_type": "code",
      "metadata": {
        "colab": {
          "base_uri": "https://localhost:8080/"
        },
        "id": "bFmdzhXu3ZTu",
        "outputId": "503017d7-3db0-4607-e45a-a9b57690ec23"
      },
      "source": [
        "!wget 'http://vlm1.uta.edu/~athitsos/projects/drowsiness/Fold3_part1.zip'"
      ],
      "execution_count": null,
      "outputs": [
        {
          "output_type": "stream",
          "text": [
            "--2021-03-02 22:47:06--  http://vlm1.uta.edu/~athitsos/projects/drowsiness/Fold3_part1.zip\n",
            "Resolving vlm1.uta.edu (vlm1.uta.edu)... 129.107.118.39\n",
            "Connecting to vlm1.uta.edu (vlm1.uta.edu)|129.107.118.39|:80... connected.\n",
            "HTTP request sent, awaiting response... 200 OK\n",
            "Length: 12813328785 (12G) [application/zip]\n",
            "Saving to: ‘Fold3_part1.zip’\n",
            "\n",
            "Fold3_part1.zip     100%[===================>]  11.93G  18.5MB/s    in 12m 3s  \n",
            "\n",
            "2021-03-02 22:59:09 (16.9 MB/s) - ‘Fold3_part1.zip’ saved [12813328785/12813328785]\n",
            "\n"
          ],
          "name": "stdout"
        }
      ]
    },
    {
      "cell_type": "code",
      "metadata": {
        "colab": {
          "base_uri": "https://localhost:8080/"
        },
        "id": "g-gjNWJo3ZW4",
        "outputId": "82059607-d099-4537-8638-355f93ec282c"
      },
      "source": [
        "!unzip Fold3_part1.zip -d '/content/drive/MyDrive/Drowsiness Detection/Dataset'"
      ],
      "execution_count": null,
      "outputs": [
        {
          "output_type": "stream",
          "text": [
            "Archive:  Fold3_part1.zip\n",
            "   creating: /content/drive/MyDrive/Drowsiness Detection/Dataset/Fold3_part1/\n",
            "   creating: /content/drive/MyDrive/Drowsiness Detection/Dataset/Fold3_part1/29/\n",
            "  inflating: /content/drive/MyDrive/Drowsiness Detection/Dataset/Fold3_part1/29/10.mp4  \n",
            "  inflating: /content/drive/MyDrive/Drowsiness Detection/Dataset/Fold3_part1/29/5.mp4  \n",
            "  inflating: /content/drive/MyDrive/Drowsiness Detection/Dataset/Fold3_part1/29/0.mp4  \n",
            "   creating: /content/drive/MyDrive/Drowsiness Detection/Dataset/Fold3_part1/25/\n",
            "  inflating: /content/drive/MyDrive/Drowsiness Detection/Dataset/Fold3_part1/25/0.mp4  \n",
            "  inflating: /content/drive/MyDrive/Drowsiness Detection/Dataset/Fold3_part1/25/5.mp4  \n",
            "  inflating: /content/drive/MyDrive/Drowsiness Detection/Dataset/Fold3_part1/25/10.mp4  \n",
            "   creating: /content/drive/MyDrive/Drowsiness Detection/Dataset/Fold3_part1/27/\n",
            "  inflating: /content/drive/MyDrive/Drowsiness Detection/Dataset/Fold3_part1/27/0.MOV  \n",
            "  inflating: /content/drive/MyDrive/Drowsiness Detection/Dataset/Fold3_part1/27/10.MOV  \n",
            "  inflating: /content/drive/MyDrive/Drowsiness Detection/Dataset/Fold3_part1/27/5.MOV  \n",
            "   creating: /content/drive/MyDrive/Drowsiness Detection/Dataset/Fold3_part1/28/\n",
            "  inflating: /content/drive/MyDrive/Drowsiness Detection/Dataset/Fold3_part1/28/10.MOV  \n",
            "  inflating: /content/drive/MyDrive/Drowsiness Detection/Dataset/Fold3_part1/28/5.MOV  \n",
            "  inflating: /content/drive/MyDrive/Drowsiness Detection/Dataset/Fold3_part1/28/0.MOV  \n",
            "   creating: /content/drive/MyDrive/Drowsiness Detection/Dataset/Fold3_part1/30/\n",
            "  inflating: /content/drive/MyDrive/Drowsiness Detection/Dataset/Fold3_part1/30/10.mp4  \n",
            "  inflating: /content/drive/MyDrive/Drowsiness Detection/Dataset/Fold3_part1/30/5.mp4  \n",
            "  inflating: /content/drive/MyDrive/Drowsiness Detection/Dataset/Fold3_part1/30/0.mp4  \n",
            "   creating: /content/drive/MyDrive/Drowsiness Detection/Dataset/Fold3_part1/26/\n",
            "  inflating: /content/drive/MyDrive/Drowsiness Detection/Dataset/Fold3_part1/26/5.mp4  \n",
            "  inflating: /content/drive/MyDrive/Drowsiness Detection/Dataset/Fold3_part1/26/10.mp4  \n",
            "  inflating: /content/drive/MyDrive/Drowsiness Detection/Dataset/Fold3_part1/26/0.mp4  \n"
          ],
          "name": "stdout"
        }
      ]
    },
    {
      "cell_type": "code",
      "metadata": {
        "colab": {
          "base_uri": "https://localhost:8080/"
        },
        "id": "aTvHwYUC4KO1",
        "outputId": "62253096-d545-4681-ea34-bbed82b1b3b6"
      },
      "source": [
        "!wget 'http://vlm1.uta.edu/~athitsos/projects/drowsiness/Fold3_part2.zip'"
      ],
      "execution_count": null,
      "outputs": [
        {
          "output_type": "stream",
          "text": [
            "--2021-03-02 23:03:22--  http://vlm1.uta.edu/~athitsos/projects/drowsiness/Fold3_part2.zip\n",
            "Resolving vlm1.uta.edu (vlm1.uta.edu)... 129.107.118.39\n",
            "Connecting to vlm1.uta.edu (vlm1.uta.edu)|129.107.118.39|:80... connected.\n",
            "HTTP request sent, awaiting response... 200 OK\n",
            "Length: 8103809654 (7.5G) [application/zip]\n",
            "Saving to: ‘Fold3_part2.zip’\n",
            "\n",
            "Fold3_part2.zip     100%[===================>]   7.55G  13.9MB/s    in 8m 12s  \n",
            "\n",
            "2021-03-02 23:11:35 (15.7 MB/s) - ‘Fold3_part2.zip’ saved [8103809654/8103809654]\n",
            "\n"
          ],
          "name": "stdout"
        }
      ]
    },
    {
      "cell_type": "code",
      "metadata": {
        "colab": {
          "base_uri": "https://localhost:8080/"
        },
        "id": "MhrLqU4J4Lyx",
        "outputId": "560f9f91-4f05-48d9-c0ad-73eab8e8f4a9"
      },
      "source": [
        "!unzip Fold3_part2.zip -d '/content/drive/MyDrive/Drowsiness Detection/Dataset'"
      ],
      "execution_count": null,
      "outputs": [
        {
          "output_type": "stream",
          "text": [
            "Archive:  Fold3_part2.zip\n",
            "   creating: /content/drive/MyDrive/Drowsiness Detection/Dataset/Fold3_part2/\n",
            "   creating: /content/drive/MyDrive/Drowsiness Detection/Dataset/Fold3_part2/34/\n",
            "  inflating: /content/drive/MyDrive/Drowsiness Detection/Dataset/Fold3_part2/34/5.mov  \n",
            "  inflating: /content/drive/MyDrive/Drowsiness Detection/Dataset/Fold3_part2/34/10.mp4  \n",
            "  inflating: /content/drive/MyDrive/Drowsiness Detection/Dataset/Fold3_part2/34/0.mov  \n",
            "   creating: /content/drive/MyDrive/Drowsiness Detection/Dataset/Fold3_part2/31/\n",
            "  inflating: /content/drive/MyDrive/Drowsiness Detection/Dataset/Fold3_part2/31/10.mp4  \n",
            "  inflating: /content/drive/MyDrive/Drowsiness Detection/Dataset/Fold3_part2/31/5.mp4  \n",
            "  inflating: /content/drive/MyDrive/Drowsiness Detection/Dataset/Fold3_part2/31/0.mp4  \n",
            "   creating: /content/drive/MyDrive/Drowsiness Detection/Dataset/Fold3_part2/33/\n",
            "  inflating: /content/drive/MyDrive/Drowsiness Detection/Dataset/Fold3_part2/33/0.mp4  \n",
            "  inflating: /content/drive/MyDrive/Drowsiness Detection/Dataset/Fold3_part2/33/10.mp4  \n",
            "  inflating: /content/drive/MyDrive/Drowsiness Detection/Dataset/Fold3_part2/33/5.mp4  \n",
            "   creating: /content/drive/MyDrive/Drowsiness Detection/Dataset/Fold3_part2/36/\n",
            "  inflating: /content/drive/MyDrive/Drowsiness Detection/Dataset/Fold3_part2/36/10.mp4  \n",
            "  inflating: /content/drive/MyDrive/Drowsiness Detection/Dataset/Fold3_part2/36/5.mp4  \n",
            "  inflating: /content/drive/MyDrive/Drowsiness Detection/Dataset/Fold3_part2/36/0.mp4  \n",
            "   creating: /content/drive/MyDrive/Drowsiness Detection/Dataset/Fold3_part2/35/\n",
            "  inflating: /content/drive/MyDrive/Drowsiness Detection/Dataset/Fold3_part2/35/10.mp4  \n",
            "  inflating: /content/drive/MyDrive/Drowsiness Detection/Dataset/Fold3_part2/35/5.mp4  \n",
            "  inflating: /content/drive/MyDrive/Drowsiness Detection/Dataset/Fold3_part2/35/0.mp4  \n",
            "   creating: /content/drive/MyDrive/Drowsiness Detection/Dataset/Fold3_part2/32/\n",
            "  inflating: /content/drive/MyDrive/Drowsiness Detection/Dataset/Fold3_part2/32/10_2.mp4  \n",
            "  inflating: /content/drive/MyDrive/Drowsiness Detection/Dataset/Fold3_part2/32/10_1.mp4  \n",
            "  inflating: /content/drive/MyDrive/Drowsiness Detection/Dataset/Fold3_part2/32/5.mp4  \n",
            "  inflating: /content/drive/MyDrive/Drowsiness Detection/Dataset/Fold3_part2/32/0.mp4  \n"
          ],
          "name": "stdout"
        }
      ]
    },
    {
      "cell_type": "code",
      "metadata": {
        "colab": {
          "base_uri": "https://localhost:8080/"
        },
        "id": "ZIdwqTzB4SI8",
        "outputId": "7524dc8a-255e-4e7e-b1be-2025117bf896"
      },
      "source": [
        "!wget 'http://vlm1.uta.edu/~athitsos/projects/drowsiness/Fold4_part1.zip'"
      ],
      "execution_count": null,
      "outputs": [
        {
          "output_type": "stream",
          "text": [
            "--2021-03-02 23:14:25--  http://vlm1.uta.edu/~athitsos/projects/drowsiness/Fold4_part1.zip\n",
            "Resolving vlm1.uta.edu (vlm1.uta.edu)... 129.107.118.39\n",
            "Connecting to vlm1.uta.edu (vlm1.uta.edu)|129.107.118.39|:80... connected.\n",
            "HTTP request sent, awaiting response... 200 OK\n",
            "Length: 12437963092 (12G) [application/zip]\n",
            "Saving to: ‘Fold4_part1.zip’\n",
            "\n",
            "Fold4_part1.zip     100%[===================>]  11.58G  23.0MB/s    in 12m 7s  \n",
            "\n",
            "2021-03-02 23:26:33 (16.3 MB/s) - ‘Fold4_part1.zip’ saved [12437963092/12437963092]\n",
            "\n"
          ],
          "name": "stdout"
        }
      ]
    },
    {
      "cell_type": "code",
      "metadata": {
        "colab": {
          "base_uri": "https://localhost:8080/"
        },
        "id": "E5KdRiz74SvN",
        "outputId": "06530ef5-6437-44a6-8c48-8164749e2d75"
      },
      "source": [
        "!unzip Fold4_part1.zip -d '/content/drive/MyDrive/Drowsiness Detection/Dataset'"
      ],
      "execution_count": null,
      "outputs": [
        {
          "output_type": "stream",
          "text": [
            "Archive:  Fold4_part1.zip\n",
            "   creating: /content/drive/MyDrive/Drowsiness Detection/Dataset/Fold4_part1/\n",
            "   creating: /content/drive/MyDrive/Drowsiness Detection/Dataset/Fold4_part1/37/\n",
            "  inflating: /content/drive/MyDrive/Drowsiness Detection/Dataset/Fold4_part1/37/10.mov  \n",
            "  inflating: /content/drive/MyDrive/Drowsiness Detection/Dataset/Fold4_part1/37/0.mov  \n",
            "  inflating: /content/drive/MyDrive/Drowsiness Detection/Dataset/Fold4_part1/37/5.mov  \n",
            "   creating: /content/drive/MyDrive/Drowsiness Detection/Dataset/Fold4_part1/41/\n",
            "  inflating: /content/drive/MyDrive/Drowsiness Detection/Dataset/Fold4_part1/41/0.MP4  \n",
            "  inflating: /content/drive/MyDrive/Drowsiness Detection/Dataset/Fold4_part1/41/10.MOV  \n",
            "  inflating: /content/drive/MyDrive/Drowsiness Detection/Dataset/Fold4_part1/41/5.mp4  \n",
            "   creating: /content/drive/MyDrive/Drowsiness Detection/Dataset/Fold4_part1/40/\n",
            "  inflating: /content/drive/MyDrive/Drowsiness Detection/Dataset/Fold4_part1/40/0.mp4  \n",
            "  inflating: /content/drive/MyDrive/Drowsiness Detection/Dataset/Fold4_part1/40/10.mp4  \n",
            "  inflating: /content/drive/MyDrive/Drowsiness Detection/Dataset/Fold4_part1/40/5.mp4  \n",
            "   creating: /content/drive/MyDrive/Drowsiness Detection/Dataset/Fold4_part1/38/\n",
            "  inflating: /content/drive/MyDrive/Drowsiness Detection/Dataset/Fold4_part1/38/10.mp4  \n",
            "  inflating: /content/drive/MyDrive/Drowsiness Detection/Dataset/Fold4_part1/38/0.mp4  \n",
            "  inflating: /content/drive/MyDrive/Drowsiness Detection/Dataset/Fold4_part1/38/5.mp4  \n",
            "   creating: /content/drive/MyDrive/Drowsiness Detection/Dataset/Fold4_part1/39/\n",
            "  inflating: /content/drive/MyDrive/Drowsiness Detection/Dataset/Fold4_part1/39/10.MOV  \n",
            "  inflating: /content/drive/MyDrive/Drowsiness Detection/Dataset/Fold4_part1/39/5.MOV  \n",
            "  inflating: /content/drive/MyDrive/Drowsiness Detection/Dataset/Fold4_part1/39/0.MP4  \n"
          ],
          "name": "stdout"
        }
      ]
    },
    {
      "cell_type": "code",
      "metadata": {
        "colab": {
          "base_uri": "https://localhost:8080/"
        },
        "id": "mfgFDSvX4lGq",
        "outputId": "a31b4179-a733-4f9a-e723-c7be40baf93d"
      },
      "source": [
        "!wget 'http://vlm1.uta.edu/~athitsos/projects/drowsiness/Fold4_part2.zip'"
      ],
      "execution_count": null,
      "outputs": [
        {
          "output_type": "stream",
          "text": [
            "--2021-03-02 23:30:37--  http://vlm1.uta.edu/~athitsos/projects/drowsiness/Fold4_part2.zip\n",
            "Resolving vlm1.uta.edu (vlm1.uta.edu)... 129.107.118.39\n",
            "Connecting to vlm1.uta.edu (vlm1.uta.edu)|129.107.118.39|:80... connected.\n",
            "HTTP request sent, awaiting response... 200 OK\n",
            "Length: 14334448068 (13G) [application/zip]\n",
            "Saving to: ‘Fold4_part2.zip’\n",
            "\n",
            "Fold4_part2.zip     100%[===================>]  13.35G  20.4MB/s    in 12m 35s \n",
            "\n",
            "2021-03-02 23:43:14 (18.1 MB/s) - ‘Fold4_part2.zip’ saved [14334448068/14334448068]\n",
            "\n"
          ],
          "name": "stdout"
        }
      ]
    },
    {
      "cell_type": "code",
      "metadata": {
        "colab": {
          "base_uri": "https://localhost:8080/"
        },
        "id": "uGQ-cP8_4rFi",
        "outputId": "8442caa3-ce7f-4c56-e58d-4332ea74b209"
      },
      "source": [
        "!unzip Fold4_part2.zip -d '/content/drive/MyDrive/Drowsiness Detection/Dataset'"
      ],
      "execution_count": null,
      "outputs": [
        {
          "output_type": "stream",
          "text": [
            "Archive:  Fold4_part2.zip\n",
            "   creating: /content/drive/MyDrive/Drowsiness Detection/Dataset/Fold4_part2/\n",
            "   creating: /content/drive/MyDrive/Drowsiness Detection/Dataset/Fold4_part2/46/\n",
            "  inflating: /content/drive/MyDrive/Drowsiness Detection/Dataset/Fold4_part2/46/5.m4v  \n",
            "  inflating: /content/drive/MyDrive/Drowsiness Detection/Dataset/Fold4_part2/46/0.m4v  \n",
            "  inflating: /content/drive/MyDrive/Drowsiness Detection/Dataset/Fold4_part2/46/10.mov  \n",
            "   creating: /content/drive/MyDrive/Drowsiness Detection/Dataset/Fold4_part2/48/\n",
            "  inflating: /content/drive/MyDrive/Drowsiness Detection/Dataset/Fold4_part2/48/0.MOV  \n",
            "  inflating: /content/drive/MyDrive/Drowsiness Detection/Dataset/Fold4_part2/48/5.MOV  \n",
            "  inflating: /content/drive/MyDrive/Drowsiness Detection/Dataset/Fold4_part2/48/10.MOV  \n",
            "   creating: /content/drive/MyDrive/Drowsiness Detection/Dataset/Fold4_part2/45/\n",
            "  inflating: /content/drive/MyDrive/Drowsiness Detection/Dataset/Fold4_part2/45/0.mp4  \n",
            "  inflating: /content/drive/MyDrive/Drowsiness Detection/Dataset/Fold4_part2/45/5.mp4  \n",
            "  inflating: /content/drive/MyDrive/Drowsiness Detection/Dataset/Fold4_part2/45/10.mp4  \n",
            "   creating: /content/drive/MyDrive/Drowsiness Detection/Dataset/Fold4_part2/44/\n",
            "  inflating: /content/drive/MyDrive/Drowsiness Detection/Dataset/Fold4_part2/44/10.mov  \n",
            "  inflating: /content/drive/MyDrive/Drowsiness Detection/Dataset/Fold4_part2/44/5.mov  \n",
            "  inflating: /content/drive/MyDrive/Drowsiness Detection/Dataset/Fold4_part2/44/0.mov  \n",
            "   creating: /content/drive/MyDrive/Drowsiness Detection/Dataset/Fold4_part2/42/\n",
            "  inflating: /content/drive/MyDrive/Drowsiness Detection/Dataset/Fold4_part2/42/10.mp4  \n",
            "  inflating: /content/drive/MyDrive/Drowsiness Detection/Dataset/Fold4_part2/42/0.mp4  \n",
            "  inflating: /content/drive/MyDrive/Drowsiness Detection/Dataset/Fold4_part2/42/5.mp4  \n",
            "   creating: /content/drive/MyDrive/Drowsiness Detection/Dataset/Fold4_part2/43/\n",
            "  inflating: /content/drive/MyDrive/Drowsiness Detection/Dataset/Fold4_part2/43/10.mov  \n",
            "  inflating: /content/drive/MyDrive/Drowsiness Detection/Dataset/Fold4_part2/43/0.mov  \n",
            "  inflating: /content/drive/MyDrive/Drowsiness Detection/Dataset/Fold4_part2/43/5.mp4  \n",
            "   creating: /content/drive/MyDrive/Drowsiness Detection/Dataset/Fold4_part2/47/\n",
            "  inflating: /content/drive/MyDrive/Drowsiness Detection/Dataset/Fold4_part2/47/0.mp4  \n",
            "  inflating: /content/drive/MyDrive/Drowsiness Detection/Dataset/Fold4_part2/47/10.mp4  \n",
            "  inflating: /content/drive/MyDrive/Drowsiness Detection/Dataset/Fold4_part2/47/5.mp4  \n"
          ],
          "name": "stdout"
        }
      ]
    },
    {
      "cell_type": "code",
      "metadata": {
        "id": "yU3TREVx5E9C"
      },
      "source": [
        ""
      ],
      "execution_count": null,
      "outputs": []
    }
  ]
}